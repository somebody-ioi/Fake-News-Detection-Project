{
  "nbformat": 4,
  "nbformat_minor": 0,
  "metadata": {
    "colab": {
      "provenance": []
    },
    "kernelspec": {
      "name": "python3",
      "display_name": "Python 3"
    },
    "language_info": {
      "name": "python"
    }
  },
  "cells": [
    {
      "cell_type": "code",
      "execution_count": 4,
      "metadata": {
        "colab": {
          "base_uri": "https://localhost:8080/"
        },
        "id": "_ygH5YiSfcAH",
        "outputId": "6c88da5c-17c6-4b7e-cafe-7dc88e311abc"
      },
      "outputs": [
        {
          "output_type": "stream",
          "name": "stdout",
          "text": [
            "Accuracy: 94.57 %\n",
            "Enter a news headline to check: Government announces free education for all\n",
            "Prediction: FAKE NEWS ⚠️\n"
          ]
        }
      ],
      "source": [
        "# ✅ Import libraries\n",
        "import pandas as pd\n",
        "from sklearn.model_selection import train_test_split\n",
        "from sklearn.feature_extraction.text import TfidfVectorizer\n",
        "from sklearn.linear_model import LogisticRegression\n",
        "from sklearn.metrics import accuracy_score\n",
        "\n",
        "# ✅ Load uploaded CSV files\n",
        "fake_df = pd.read_csv(\"Fake.csv\")\n",
        "real_df = pd.read_csv(\"True.csv\")\n",
        "\n",
        "# ✅ Add labels: 0 = Fake, 1 = Real\n",
        "fake_df[\"label\"] = 0\n",
        "real_df[\"label\"] = 1\n",
        "\n",
        "# ✅ Use only titles and labels\n",
        "fake_df = fake_df[[\"title\", \"label\"]]\n",
        "real_df = real_df[[\"title\", \"label\"]]\n",
        "\n",
        "# ✅ Combine and shuffle\n",
        "data = pd.concat([fake_df, real_df])\n",
        "data = data.dropna().sample(frac=1).reset_index(drop=True)\n",
        "\n",
        "# ✅ Features and labels\n",
        "X = data[\"title\"]\n",
        "y = data[\"label\"]\n",
        "\n",
        "# ✅ Vectorize text using TF-IDF\n",
        "vectorizer = TfidfVectorizer(stop_words=\"english\", max_df=0.7)\n",
        "X_vectorized = vectorizer.fit_transform(X)\n",
        "\n",
        "# ✅ Split data\n",
        "X_train, X_test, y_train, y_test = train_test_split(X_vectorized, y, test_size=0.2, random_state=42)\n",
        "\n",
        "# ✅ Train model\n",
        "model = LogisticRegression()\n",
        "model.fit(X_train, y_train)\n",
        "\n",
        "# ✅ Predict and accuracy\n",
        "y_pred = model.predict(X_test)\n",
        "acc = accuracy_score(y_test, y_pred)\n",
        "print(\"Accuracy:\", round(acc * 100, 2), \"%\")\n",
        "\n",
        "# ✅ Custom prediction\n",
        "def predict_fake_news(text):\n",
        "    vec = vectorizer.transform([text])\n",
        "    pred = model.predict(vec)\n",
        "    return \"REAL NEWS ✅\" if pred[0] == 1 else \"FAKE NEWS ⚠️\"\n",
        "\n",
        "# ✅ User input (works fine in Colab)\n",
        "user_input = input(\"Enter a news headline to check: \")\n",
        "print(\"Prediction:\", predict_fake_news(user_input))\n"
      ]
    }
  ]
}