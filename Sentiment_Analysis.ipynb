{
  "nbformat": 4,
  "nbformat_minor": 0,
  "metadata": {
    "colab": {
      "provenance": []
    },
    "kernelspec": {
      "name": "python3",
      "display_name": "Python 3"
    },
    "language_info": {
      "name": "python"
    }
  },
  "cells": [
    {
      "cell_type": "code",
      "execution_count": 3,
      "metadata": {
        "colab": {
          "base_uri": "https://localhost:8080/"
        },
        "id": "TIjENPy2arsF",
        "outputId": "5ab1aaa9-4dcc-4478-b574-84f304410bab"
      },
      "outputs": [
        {
          "output_type": "stream",
          "name": "stdout",
          "text": [
            "Enter a sentence to analyze: This internship is amazing\n",
            "Sentiment: Positive 😊\n"
          ]
        }
      ],
      "source": [
        "from textblob import TextBlob\n",
        "\n",
        "# Function to analyze sentiment\n",
        "def analyze_sentiment(text):\n",
        "    blob = TextBlob(text)\n",
        "    polarity = blob.sentiment.polarity\n",
        "    if polarity > 0:\n",
        "        return \"Positive 😊\"\n",
        "    elif polarity < 0:\n",
        "        return \"Negative 😠\"\n",
        "    else:\n",
        "        return \"Neutral 😐\"\n",
        "\n",
        "# Ask for one-time input (Colab friendly)\n",
        "user_input = input(\"Enter a sentence to analyze: \")\n",
        "result = analyze_sentiment(user_input)\n",
        "print(\"Sentiment:\", result)\n"
      ]
    },
    {
      "cell_type": "code",
      "source": [
        "readme_text = \"\"\"\n",
        "# Sentiment Analysis using TextBlob\n",
        "\n",
        "This is a beginner-friendly AI project that uses the `TextBlob` library to analyze the sentiment of user input.\n",
        "\n",
        "## 💡 Features:\n",
        "- Classifies text as Positive 😊, Negative 😠, or Neutral 😐\n",
        "- Uses Natural Language Processing (NLP)\n",
        "- Simple command-line interaction\n",
        "\n",
        "## 🔧 Tech Stack:\n",
        "- Python\n",
        "- TextBlob\n",
        "- Google Colab\n",
        "\n",
        "## 🚀 How to Use:\n",
        "1. Run the notebook\n",
        "2. Enter your sentence\n",
        "3. Get the sentiment result!\n",
        "\n",
        "## 🧠 Example:\n",
        "\n",
        "## 📂 Author:\n",
        "Made as part of MITS AI Internship Project\n",
        "\"\"\"\n",
        "\n",
        "# Write it into a file\n",
        "with open(\"README.md\", \"w\") as file:\n",
        "    file.write(readme_text)\n",
        "\n",
        "print(\"README.md file created successfully!\")\n"
      ],
      "metadata": {
        "colab": {
          "base_uri": "https://localhost:8080/"
        },
        "id": "cgAB7EZfdeNI",
        "outputId": "c5ae26df-b57d-41a4-fafb-c660e34cbb7c"
      },
      "execution_count": 2,
      "outputs": [
        {
          "output_type": "stream",
          "name": "stdout",
          "text": [
            "README.md file created successfully!\n"
          ]
        }
      ]
    }
  ]
}